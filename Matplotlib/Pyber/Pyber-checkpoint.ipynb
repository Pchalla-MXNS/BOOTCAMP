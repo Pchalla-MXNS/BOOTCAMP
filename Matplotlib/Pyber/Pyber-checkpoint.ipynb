{
 "cells": [
  {
   "cell_type": "markdown",
   "metadata": {},
   "source": [
    "# Pyber Ride Sharing"
   ]
  },
  {
   "cell_type": "markdown",
   "metadata": {},
   "source": [
    "## Analysis -Prathyusha Challa\n",
    "\n",
    "#### 1)\tFrom the below, the lion’s share of the total rides and total fare comes from the Urban areas. \n",
    "### 2)\tPlease refer the the pie charts, Almsot 78% of the total drivers are in Urban areas whereas the rides there are only 68% of the total. Which means that Urban areas have way more number of drivers than required. This may be a reason why the fares are lower.\n",
    "### 3)\tIn the Suburban areas, the trend is opposite. 26% of the total rides fall under Suburban whereas percentage of the total drivers there is only 19%. The average fares fall above the Urban cluster.\n",
    "### 4)\tVery less number of people prefer to ride on Pyber in Rural areas and significant low number of drivers. This leads to the fares being higher in these areas end up accounting up to 35% of total fares\n"
   ]
  },
  {
   "cell_type": "code",
   "execution_count": 22,
   "metadata": {},
   "outputs": [],
   "source": [
    "# Your objective is to build a [Bubble Plot] URL provided (https://en.wikipedia.org/wiki/Bubble_chart) that showcases the relationship \n",
    "# between four key variables:\n",
    "\n",
    "# Average Fare ($) Per City\n",
    "# Total Number of Rides Per City\n",
    "# Total Number of Drivers Per City\n",
    "# City Type (Urban, Suburban, Rural)\n",
    "# In addition, you will be expected to produce the following three pie charts:\n",
    "\n",
    "\n",
    "# % of Total Fares by City Type\n",
    "# % of Total Rides by City Type\n",
    "# % of Total Drivers by City Type\n",
    "\n",
    "\n",
    "# As final considerations:\n",
    "\n",
    "\n",
    "# You must use the Pandas Library and the Jupyter Notebook.\n",
    "# You must use the Matplotlib library.\n",
    "# You must include a written description of three observable trends based on the data.\n",
    "# You must use proper labeling of your plots, including aspects like: Plot Titles, Axes Labels, Legend Labels, Wedge Percentages, and Wedge Labels."
   ]
  },
  {
   "cell_type": "code",
   "execution_count": 23,
   "metadata": {},
   "outputs": [],
   "source": [
    "%matplotlib inline\n",
    "# Dependencies and Setup\n",
    "import matplotlib.pyplot as plt\n",
    "import numpy as np\n",
    "import pandas as pd\n"
   ]
  },
  {
   "cell_type": "code",
   "execution_count": 24,
   "metadata": {},
   "outputs": [
    {
     "data": {
      "text/html": [
       "<div>\n",
       "<style scoped>\n",
       "    .dataframe tbody tr th:only-of-type {\n",
       "        vertical-align: middle;\n",
       "    }\n",
       "\n",
       "    .dataframe tbody tr th {\n",
       "        vertical-align: top;\n",
       "    }\n",
       "\n",
       "    .dataframe thead th {\n",
       "        text-align: right;\n",
       "    }\n",
       "</style>\n",
       "<table border=\"1\" class=\"dataframe\">\n",
       "  <thead>\n",
       "    <tr style=\"text-align: right;\">\n",
       "      <th></th>\n",
       "      <th>city</th>\n",
       "      <th>driver_count</th>\n",
       "      <th>type</th>\n",
       "    </tr>\n",
       "  </thead>\n",
       "  <tbody>\n",
       "    <tr>\n",
       "      <th>0</th>\n",
       "      <td>Richardfort</td>\n",
       "      <td>38</td>\n",
       "      <td>Urban</td>\n",
       "    </tr>\n",
       "    <tr>\n",
       "      <th>1</th>\n",
       "      <td>Williamsstad</td>\n",
       "      <td>59</td>\n",
       "      <td>Urban</td>\n",
       "    </tr>\n",
       "    <tr>\n",
       "      <th>2</th>\n",
       "      <td>Port Angela</td>\n",
       "      <td>67</td>\n",
       "      <td>Urban</td>\n",
       "    </tr>\n",
       "    <tr>\n",
       "      <th>3</th>\n",
       "      <td>Rodneyfort</td>\n",
       "      <td>34</td>\n",
       "      <td>Urban</td>\n",
       "    </tr>\n",
       "    <tr>\n",
       "      <th>4</th>\n",
       "      <td>West Robert</td>\n",
       "      <td>39</td>\n",
       "      <td>Urban</td>\n",
       "    </tr>\n",
       "  </tbody>\n",
       "</table>\n",
       "</div>"
      ],
      "text/plain": [
       "           city  driver_count   type\n",
       "0   Richardfort            38  Urban\n",
       "1  Williamsstad            59  Urban\n",
       "2   Port Angela            67  Urban\n",
       "3    Rodneyfort            34  Urban\n",
       "4   West Robert            39  Urban"
      ]
     },
     "execution_count": 24,
     "metadata": {},
     "output_type": "execute_result"
    }
   ],
   "source": [
    "# city data\n",
    "city_data_df = pd.read_csv('data/city_data.csv')\n",
    "city_data_df.head()"
   ]
  },
  {
   "cell_type": "code",
   "execution_count": 25,
   "metadata": {},
   "outputs": [
    {
     "data": {
      "text/html": [
       "<div>\n",
       "<style scoped>\n",
       "    .dataframe tbody tr th:only-of-type {\n",
       "        vertical-align: middle;\n",
       "    }\n",
       "\n",
       "    .dataframe tbody tr th {\n",
       "        vertical-align: top;\n",
       "    }\n",
       "\n",
       "    .dataframe thead th {\n",
       "        text-align: right;\n",
       "    }\n",
       "</style>\n",
       "<table border=\"1\" class=\"dataframe\">\n",
       "  <thead>\n",
       "    <tr style=\"text-align: right;\">\n",
       "      <th></th>\n",
       "      <th>city</th>\n",
       "      <th>driver_count</th>\n",
       "      <th>type</th>\n",
       "    </tr>\n",
       "  </thead>\n",
       "  <tbody>\n",
       "  </tbody>\n",
       "</table>\n",
       "</div>"
      ],
      "text/plain": [
       "Empty DataFrame\n",
       "Columns: [city, driver_count, type]\n",
       "Index: []"
      ]
     },
     "execution_count": 25,
     "metadata": {},
     "output_type": "execute_result"
    }
   ],
   "source": [
    "#locate Port James\n",
    "port_james = city_data_df.loc[city_data_df[\"city\"] == \"Port James\",:]\n",
    "port_james"
   ]
  },
  {
   "cell_type": "code",
   "execution_count": 26,
   "metadata": {},
   "outputs": [
    {
     "data": {
      "text/html": [
       "<div>\n",
       "<style scoped>\n",
       "    .dataframe tbody tr th:only-of-type {\n",
       "        vertical-align: middle;\n",
       "    }\n",
       "\n",
       "    .dataframe tbody tr th {\n",
       "        vertical-align: top;\n",
       "    }\n",
       "\n",
       "    .dataframe thead th {\n",
       "        text-align: right;\n",
       "    }\n",
       "</style>\n",
       "<table border=\"1\" class=\"dataframe\">\n",
       "  <thead>\n",
       "    <tr style=\"text-align: right;\">\n",
       "      <th></th>\n",
       "      <th>city</th>\n",
       "      <th>Total Drivers Per City</th>\n",
       "    </tr>\n",
       "  </thead>\n",
       "  <tbody>\n",
       "    <tr>\n",
       "      <th>0</th>\n",
       "      <td>Amandaburgh</td>\n",
       "      <td>12</td>\n",
       "    </tr>\n",
       "    <tr>\n",
       "      <th>1</th>\n",
       "      <td>Barajasview</td>\n",
       "      <td>26</td>\n",
       "    </tr>\n",
       "    <tr>\n",
       "      <th>2</th>\n",
       "      <td>Barronchester</td>\n",
       "      <td>11</td>\n",
       "    </tr>\n",
       "    <tr>\n",
       "      <th>3</th>\n",
       "      <td>Bethanyland</td>\n",
       "      <td>22</td>\n",
       "    </tr>\n",
       "    <tr>\n",
       "      <th>4</th>\n",
       "      <td>Bradshawfurt</td>\n",
       "      <td>7</td>\n",
       "    </tr>\n",
       "  </tbody>\n",
       "</table>\n",
       "</div>"
      ],
      "text/plain": [
       "            city  Total Drivers Per City\n",
       "0    Amandaburgh                      12\n",
       "1    Barajasview                      26\n",
       "2  Barronchester                      11\n",
       "3    Bethanyland                      22\n",
       "4   Bradshawfurt                       7"
      ]
     },
     "execution_count": 26,
     "metadata": {},
     "output_type": "execute_result"
    }
   ],
   "source": [
    "#Add the driver count of same cites in different rows (126 rows since Port James has a duplicate)\n",
    "drivers_count = city_data_df.groupby(\"city\")[\"driver_count\"].sum()\n",
    "city_data_new_df = pd.DataFrame({\"Total Drivers Per City\":drivers_count})\n",
    "city_data_new_df = city_data_new_df.reset_index()\n",
    "city_data_new_df.head()"
   ]
  },
  {
   "cell_type": "code",
   "execution_count": 27,
   "metadata": {},
   "outputs": [
    {
     "data": {
      "text/html": [
       "<div>\n",
       "<style scoped>\n",
       "    .dataframe tbody tr th:only-of-type {\n",
       "        vertical-align: middle;\n",
       "    }\n",
       "\n",
       "    .dataframe tbody tr th {\n",
       "        vertical-align: top;\n",
       "    }\n",
       "\n",
       "    .dataframe thead th {\n",
       "        text-align: right;\n",
       "    }\n",
       "</style>\n",
       "<table border=\"1\" class=\"dataframe\">\n",
       "  <thead>\n",
       "    <tr style=\"text-align: right;\">\n",
       "      <th></th>\n",
       "      <th>city</th>\n",
       "      <th>Total Drivers Per City</th>\n",
       "    </tr>\n",
       "  </thead>\n",
       "  <tbody>\n",
       "  </tbody>\n",
       "</table>\n",
       "</div>"
      ],
      "text/plain": [
       "Empty DataFrame\n",
       "Columns: [city, Total Drivers Per City]\n",
       "Index: []"
      ]
     },
     "execution_count": 27,
     "metadata": {},
     "output_type": "execute_result"
    }
   ],
   "source": [
    "#locate Port James\n",
    "port_james = city_data_new_df.loc[city_data_new_df[\"city\"] == \"Port James\",:]\n",
    "port_james"
   ]
  },
  {
   "cell_type": "code",
   "execution_count": 28,
   "metadata": {},
   "outputs": [
    {
     "data": {
      "text/html": [
       "<div>\n",
       "<style scoped>\n",
       "    .dataframe tbody tr th:only-of-type {\n",
       "        vertical-align: middle;\n",
       "    }\n",
       "\n",
       "    .dataframe tbody tr th {\n",
       "        vertical-align: top;\n",
       "    }\n",
       "\n",
       "    .dataframe thead th {\n",
       "        text-align: right;\n",
       "    }\n",
       "</style>\n",
       "<table border=\"1\" class=\"dataframe\">\n",
       "  <thead>\n",
       "    <tr style=\"text-align: right;\">\n",
       "      <th></th>\n",
       "      <th>city</th>\n",
       "      <th>driver_count</th>\n",
       "      <th>type</th>\n",
       "    </tr>\n",
       "  </thead>\n",
       "  <tbody>\n",
       "  </tbody>\n",
       "</table>\n",
       "</div>"
      ],
      "text/plain": [
       "Empty DataFrame\n",
       "Columns: [city, driver_count, type]\n",
       "Index: []"
      ]
     },
     "execution_count": 28,
     "metadata": {},
     "output_type": "execute_result"
    }
   ],
   "source": [
    "\n",
    "#delete duplicate row of Port James in original city data\n",
    "city_data_df = city_data_df.drop(city_data_df.index[[84]])\n",
    "port_james = city_data_df.loc[city_data_df[\"city\"] == \"Port James\",:]\n",
    "port_james"
   ]
  },
  {
   "cell_type": "code",
   "execution_count": 29,
   "metadata": {},
   "outputs": [
    {
     "data": {
      "text/html": [
       "<div>\n",
       "<style scoped>\n",
       "    .dataframe tbody tr th:only-of-type {\n",
       "        vertical-align: middle;\n",
       "    }\n",
       "\n",
       "    .dataframe tbody tr th {\n",
       "        vertical-align: top;\n",
       "    }\n",
       "\n",
       "    .dataframe thead th {\n",
       "        text-align: right;\n",
       "    }\n",
       "</style>\n",
       "<table border=\"1\" class=\"dataframe\">\n",
       "  <thead>\n",
       "    <tr style=\"text-align: right;\">\n",
       "      <th></th>\n",
       "      <th>city</th>\n",
       "      <th>Total Drivers Per City</th>\n",
       "      <th>type</th>\n",
       "    </tr>\n",
       "  </thead>\n",
       "  <tbody>\n",
       "    <tr>\n",
       "      <th>0</th>\n",
       "      <td>Amandaburgh</td>\n",
       "      <td>12</td>\n",
       "      <td>Urban</td>\n",
       "    </tr>\n",
       "    <tr>\n",
       "      <th>1</th>\n",
       "      <td>Barajasview</td>\n",
       "      <td>26</td>\n",
       "      <td>Urban</td>\n",
       "    </tr>\n",
       "    <tr>\n",
       "      <th>2</th>\n",
       "      <td>Barronchester</td>\n",
       "      <td>11</td>\n",
       "      <td>Suburban</td>\n",
       "    </tr>\n",
       "    <tr>\n",
       "      <th>3</th>\n",
       "      <td>Bethanyland</td>\n",
       "      <td>22</td>\n",
       "      <td>Suburban</td>\n",
       "    </tr>\n",
       "    <tr>\n",
       "      <th>4</th>\n",
       "      <td>Bradshawfurt</td>\n",
       "      <td>7</td>\n",
       "      <td>Rural</td>\n",
       "    </tr>\n",
       "  </tbody>\n",
       "</table>\n",
       "</div>"
      ],
      "text/plain": [
       "            city  Total Drivers Per City      type\n",
       "0    Amandaburgh                      12     Urban\n",
       "1    Barajasview                      26     Urban\n",
       "2  Barronchester                      11  Suburban\n",
       "3    Bethanyland                      22  Suburban\n",
       "4   Bradshawfurt                       7     Rural"
      ]
     },
     "execution_count": 29,
     "metadata": {},
     "output_type": "execute_result"
    }
   ],
   "source": [
    "# merge driver count and city type (125 rows now)\n",
    "#delete duplicate driver_count column\n",
    "city_data_new_df = pd.merge(city_data_new_df, city_data_df, on='city', how='left')\n",
    "city_data_new_df.drop('driver_count', axis=1, inplace=True)\n",
    "\n",
    "city_data_new_df.head()"
   ]
  },
  {
   "cell_type": "code",
   "execution_count": 30,
   "metadata": {},
   "outputs": [
    {
     "data": {
      "text/html": [
       "<div>\n",
       "<style scoped>\n",
       "    .dataframe tbody tr th:only-of-type {\n",
       "        vertical-align: middle;\n",
       "    }\n",
       "\n",
       "    .dataframe tbody tr th {\n",
       "        vertical-align: top;\n",
       "    }\n",
       "\n",
       "    .dataframe thead th {\n",
       "        text-align: right;\n",
       "    }\n",
       "</style>\n",
       "<table border=\"1\" class=\"dataframe\">\n",
       "  <thead>\n",
       "    <tr style=\"text-align: right;\">\n",
       "      <th></th>\n",
       "      <th>city</th>\n",
       "      <th>date</th>\n",
       "      <th>fare</th>\n",
       "      <th>ride_id</th>\n",
       "    </tr>\n",
       "  </thead>\n",
       "  <tbody>\n",
       "    <tr>\n",
       "      <th>0</th>\n",
       "      <td>Lake Jonathanshire</td>\n",
       "      <td>2018-01-14 10:14:22</td>\n",
       "      <td>13.83</td>\n",
       "      <td>5739410935873</td>\n",
       "    </tr>\n",
       "    <tr>\n",
       "      <th>1</th>\n",
       "      <td>South Michelleport</td>\n",
       "      <td>2018-03-04 18:24:09</td>\n",
       "      <td>30.24</td>\n",
       "      <td>2343912425577</td>\n",
       "    </tr>\n",
       "    <tr>\n",
       "      <th>2</th>\n",
       "      <td>Port Samanthamouth</td>\n",
       "      <td>2018-02-24 04:29:00</td>\n",
       "      <td>33.44</td>\n",
       "      <td>2005065760003</td>\n",
       "    </tr>\n",
       "    <tr>\n",
       "      <th>3</th>\n",
       "      <td>Rodneyfort</td>\n",
       "      <td>2018-02-10 23:22:03</td>\n",
       "      <td>23.44</td>\n",
       "      <td>5149245426178</td>\n",
       "    </tr>\n",
       "    <tr>\n",
       "      <th>4</th>\n",
       "      <td>South Jack</td>\n",
       "      <td>2018-03-06 04:28:35</td>\n",
       "      <td>34.58</td>\n",
       "      <td>3908451377344</td>\n",
       "    </tr>\n",
       "  </tbody>\n",
       "</table>\n",
       "</div>"
      ],
      "text/plain": [
       "                 city                 date   fare        ride_id\n",
       "0  Lake Jonathanshire  2018-01-14 10:14:22  13.83  5739410935873\n",
       "1  South Michelleport  2018-03-04 18:24:09  30.24  2343912425577\n",
       "2  Port Samanthamouth  2018-02-24 04:29:00  33.44  2005065760003\n",
       "3          Rodneyfort  2018-02-10 23:22:03  23.44  5149245426178\n",
       "4          South Jack  2018-03-06 04:28:35  34.58  3908451377344"
      ]
     },
     "execution_count": 30,
     "metadata": {},
     "output_type": "execute_result"
    }
   ],
   "source": [
    "# ride data\n",
    "ride_data_df = pd.read_csv('data/ride_data.csv')\n",
    "ride_data_df.head()\n",
    "#ride_data_df.dtypes"
   ]
  },
  {
   "cell_type": "code",
   "execution_count": 31,
   "metadata": {},
   "outputs": [
    {
     "data": {
      "text/html": [
       "<div>\n",
       "<style scoped>\n",
       "    .dataframe tbody tr th:only-of-type {\n",
       "        vertical-align: middle;\n",
       "    }\n",
       "\n",
       "    .dataframe tbody tr th {\n",
       "        vertical-align: top;\n",
       "    }\n",
       "\n",
       "    .dataframe thead th {\n",
       "        text-align: right;\n",
       "    }\n",
       "</style>\n",
       "<table border=\"1\" class=\"dataframe\">\n",
       "  <thead>\n",
       "    <tr style=\"text-align: right;\">\n",
       "      <th></th>\n",
       "      <th>city</th>\n",
       "      <th>Average Fare Per City</th>\n",
       "      <th>Total Rides Per City</th>\n",
       "    </tr>\n",
       "  </thead>\n",
       "  <tbody>\n",
       "    <tr>\n",
       "      <th>0</th>\n",
       "      <td>Amandaburgh</td>\n",
       "      <td>24.641667</td>\n",
       "      <td>18</td>\n",
       "    </tr>\n",
       "    <tr>\n",
       "      <th>1</th>\n",
       "      <td>Barajasview</td>\n",
       "      <td>25.332273</td>\n",
       "      <td>22</td>\n",
       "    </tr>\n",
       "    <tr>\n",
       "      <th>2</th>\n",
       "      <td>Barronchester</td>\n",
       "      <td>36.422500</td>\n",
       "      <td>16</td>\n",
       "    </tr>\n",
       "    <tr>\n",
       "      <th>3</th>\n",
       "      <td>Bethanyland</td>\n",
       "      <td>32.956111</td>\n",
       "      <td>18</td>\n",
       "    </tr>\n",
       "    <tr>\n",
       "      <th>4</th>\n",
       "      <td>Bradshawfurt</td>\n",
       "      <td>40.064000</td>\n",
       "      <td>10</td>\n",
       "    </tr>\n",
       "  </tbody>\n",
       "</table>\n",
       "</div>"
      ],
      "text/plain": [
       "            city  Average Fare Per City  Total Rides Per City\n",
       "0    Amandaburgh              24.641667                    18\n",
       "1    Barajasview              25.332273                    22\n",
       "2  Barronchester              36.422500                    16\n",
       "3    Bethanyland              32.956111                    18\n",
       "4   Bradshawfurt              40.064000                    10"
      ]
     },
     "execution_count": 31,
     "metadata": {},
     "output_type": "execute_result"
    }
   ],
   "source": [
    "# Average Fare ($) Per City\n",
    "city_avg_fare = ride_data_df.groupby(\"city\")[\"fare\"].mean()\n",
    "#print(city_avg_fare)\n",
    "\n",
    "# Total Number of Rides Per City\n",
    "city_total_rides = ride_data_df.groupby(\"city\")[\"fare\"].count()\n",
    "#print(city_total_rides)\n",
    "\n",
    "#Create a data frame of thes 2 lists\n",
    "new_data_df = pd.DataFrame({\"Average Fare Per City\":city_avg_fare, \"Total Rides Per City\": city_total_rides})\n",
    "\n",
    "new_data_df = new_data_df.reset_index()\n",
    "new_data_df.head()\n"
   ]
  },
  {
   "cell_type": "code",
   "execution_count": 32,
   "metadata": {},
   "outputs": [
    {
     "data": {
      "text/html": [
       "<div>\n",
       "<style scoped>\n",
       "    .dataframe tbody tr th:only-of-type {\n",
       "        vertical-align: middle;\n",
       "    }\n",
       "\n",
       "    .dataframe tbody tr th {\n",
       "        vertical-align: top;\n",
       "    }\n",
       "\n",
       "    .dataframe thead th {\n",
       "        text-align: right;\n",
       "    }\n",
       "</style>\n",
       "<table border=\"1\" class=\"dataframe\">\n",
       "  <thead>\n",
       "    <tr style=\"text-align: right;\">\n",
       "      <th></th>\n",
       "      <th>city</th>\n",
       "      <th>Average Fare Per City</th>\n",
       "      <th>Total Rides Per City</th>\n",
       "      <th>Total Drivers Per City</th>\n",
       "      <th>type</th>\n",
       "    </tr>\n",
       "  </thead>\n",
       "  <tbody>\n",
       "    <tr>\n",
       "      <th>0</th>\n",
       "      <td>Amandaburgh</td>\n",
       "      <td>24.64</td>\n",
       "      <td>18</td>\n",
       "      <td>12</td>\n",
       "      <td>Urban</td>\n",
       "    </tr>\n",
       "    <tr>\n",
       "      <th>1</th>\n",
       "      <td>Barajasview</td>\n",
       "      <td>25.33</td>\n",
       "      <td>22</td>\n",
       "      <td>26</td>\n",
       "      <td>Urban</td>\n",
       "    </tr>\n",
       "    <tr>\n",
       "      <th>2</th>\n",
       "      <td>Barronchester</td>\n",
       "      <td>36.42</td>\n",
       "      <td>16</td>\n",
       "      <td>11</td>\n",
       "      <td>Suburban</td>\n",
       "    </tr>\n",
       "    <tr>\n",
       "      <th>3</th>\n",
       "      <td>Bethanyland</td>\n",
       "      <td>32.96</td>\n",
       "      <td>18</td>\n",
       "      <td>22</td>\n",
       "      <td>Suburban</td>\n",
       "    </tr>\n",
       "    <tr>\n",
       "      <th>4</th>\n",
       "      <td>Bradshawfurt</td>\n",
       "      <td>40.06</td>\n",
       "      <td>10</td>\n",
       "      <td>7</td>\n",
       "      <td>Rural</td>\n",
       "    </tr>\n",
       "  </tbody>\n",
       "</table>\n",
       "</div>"
      ],
      "text/plain": [
       "            city Average Fare Per City  Total Rides Per City  \\\n",
       "0    Amandaburgh                 24.64                    18   \n",
       "1    Barajasview                 25.33                    22   \n",
       "2  Barronchester                 36.42                    16   \n",
       "3    Bethanyland                 32.96                    18   \n",
       "4   Bradshawfurt                 40.06                    10   \n",
       "\n",
       "   Total Drivers Per City      type  \n",
       "0                      12     Urban  \n",
       "1                      26     Urban  \n",
       "2                      11  Suburban  \n",
       "3                      22  Suburban  \n",
       "4                       7     Rural  "
      ]
     },
     "execution_count": 32,
     "metadata": {},
     "output_type": "execute_result"
    }
   ],
   "source": [
    "# City Type (Urban, Suburban, Rural)\n",
    "all_data_df = pd.merge(new_data_df, city_data_new_df, how='left')\n",
    "\n",
    "all_data_df[\"Average Fare Per City\"] = all_data_df[\"Average Fare Per City\"].map(\"{:,.2f}\".format)\n",
    "\n",
    "all_data_df.head()\n"
   ]
  },
  {
   "cell_type": "code",
   "execution_count": 33,
   "metadata": {},
   "outputs": [],
   "source": [
    "# Convert Average fare Per City column to numberic\n",
    "all_data_df[\"Average Fare Per City\"] = pd.to_numeric(all_data_df[\"Average Fare Per City\"], errors='ignore')\n",
    "#all_data_df.dtypes"
   ]
  },
  {
   "cell_type": "code",
   "execution_count": 34,
   "metadata": {},
   "outputs": [
    {
     "data": {
      "image/png": "[encoded data removed]",
      "text/plain": [
       "<Figure size 432x288 with 1 Axes>"
      ]
     },
     "metadata": {
      "needs_background": "light"
     },
     "output_type": "display_data"
    }
   ],
   "source": [
    "# Create Scatterplots\n",
    "\n",
    "# Urban data\n",
    "urban_type_df = all_data_df.loc[all_data_df[\"type\"] == \"Urban\",:]\n",
    "urban_x_axis = urban_type_df[\"Total Rides Per City\"]\n",
    "urban_y_axis = urban_type_df[\"Average Fare Per City\"]\n",
    "urban_s = urban_type_df[\"Total Drivers Per City\"]\n",
    "urban = plt.scatter(urban_x_axis, urban_y_axis, marker=\"o\", facecolors=\"lightcoral\", edgecolors=\"black\", s=(urban_s*5),\\\n",
    "                    alpha=0.8, label=\"Urban\")\n",
    "\n",
    "# Suburban data\n",
    "suburban_type_df = all_data_df.loc[all_data_df[\"type\"] == \"Suburban\",:]\n",
    "suburban_x_axis = suburban_type_df[\"Total Rides Per City\"]\n",
    "suburban_y_axis = suburban_type_df[\"Average Fare Per City\"]\n",
    "suburban_s = suburban_type_df[\"Total Drivers Per City\"]\n",
    "suburban = plt.scatter(suburban_x_axis, suburban_y_axis, marker=\"o\", facecolors=\"lightskyblue\", edgecolors=\"black\", \\\n",
    "                       s=(suburban_s*5), alpha=0.8, label=\"Suburban\")\n",
    "\n",
    "# Rural data\n",
    "rural_type_df = all_data_df.loc[all_data_df[\"type\"] == \"Rural\",:]\n",
    "rural_x_axis = rural_type_df[\"Total Rides Per City\"]\n",
    "rural_y_axis = rural_type_df[\"Average Fare Per City\"]\n",
    "rural_s = rural_type_df[\"Total Drivers Per City\"]\n",
    "rural = plt.scatter(rural_x_axis, rural_y_axis, marker=\"o\", facecolors=\"gold\", edgecolors=\"black\", s=(rural_s*5),\\\n",
    "                    alpha=0.8, label=\"Rural\")\n",
    "\n",
    "# Labels\n",
    "plt.xlabel('Total Number of Rides (Per City)')\n",
    "plt.ylabel('Average Fares ($)')\n",
    "plt.title('Pyber Ride Sharing data')\n",
    "plt.grid(color=\"white\")\n",
    "\n",
    "\n",
    "plt.xlim(0, 40)\n",
    "plt.ylim(16, 45)\n",
    "plt.legend()\n",
    "plt.rcParams['axes.facecolor'] = 'lightgray'\n",
    "plt.show()"
   ]
  },
  {
   "cell_type": "code",
   "execution_count": 35,
   "metadata": {},
   "outputs": [],
   "source": [
    "#ride_data_df.head()"
   ]
  },
  {
   "cell_type": "code",
   "execution_count": 36,
   "metadata": {},
   "outputs": [
    {
     "data": {
      "text/html": [
       "<div>\n",
       "<style scoped>\n",
       "    .dataframe tbody tr th:only-of-type {\n",
       "        vertical-align: middle;\n",
       "    }\n",
       "\n",
       "    .dataframe tbody tr th {\n",
       "        vertical-align: top;\n",
       "    }\n",
       "\n",
       "    .dataframe thead th {\n",
       "        text-align: right;\n",
       "    }\n",
       "</style>\n",
       "<table border=\"1\" class=\"dataframe\">\n",
       "  <thead>\n",
       "    <tr style=\"text-align: right;\">\n",
       "      <th></th>\n",
       "      <th>city</th>\n",
       "      <th>date</th>\n",
       "      <th>fare</th>\n",
       "      <th>ride_id</th>\n",
       "      <th>Total Drivers Per City</th>\n",
       "      <th>type</th>\n",
       "    </tr>\n",
       "  </thead>\n",
       "  <tbody>\n",
       "    <tr>\n",
       "      <th>0</th>\n",
       "      <td>Lake Jonathanshire</td>\n",
       "      <td>2018-01-14 10:14:22</td>\n",
       "      <td>13.83</td>\n",
       "      <td>5739410935873</td>\n",
       "      <td>5</td>\n",
       "      <td>Urban</td>\n",
       "    </tr>\n",
       "    <tr>\n",
       "      <th>1</th>\n",
       "      <td>South Michelleport</td>\n",
       "      <td>2018-03-04 18:24:09</td>\n",
       "      <td>30.24</td>\n",
       "      <td>2343912425577</td>\n",
       "      <td>72</td>\n",
       "      <td>Urban</td>\n",
       "    </tr>\n",
       "    <tr>\n",
       "      <th>2</th>\n",
       "      <td>Port Samanthamouth</td>\n",
       "      <td>2018-02-24 04:29:00</td>\n",
       "      <td>33.44</td>\n",
       "      <td>2005065760003</td>\n",
       "      <td>57</td>\n",
       "      <td>Urban</td>\n",
       "    </tr>\n",
       "    <tr>\n",
       "      <th>3</th>\n",
       "      <td>Rodneyfort</td>\n",
       "      <td>2018-02-10 23:22:03</td>\n",
       "      <td>23.44</td>\n",
       "      <td>5149245426178</td>\n",
       "      <td>34</td>\n",
       "      <td>Urban</td>\n",
       "    </tr>\n",
       "    <tr>\n",
       "      <th>4</th>\n",
       "      <td>South Jack</td>\n",
       "      <td>2018-03-06 04:28:35</td>\n",
       "      <td>34.58</td>\n",
       "      <td>3908451377344</td>\n",
       "      <td>46</td>\n",
       "      <td>Urban</td>\n",
       "    </tr>\n",
       "  </tbody>\n",
       "</table>\n",
       "</div>"
      ],
      "text/plain": [
       "                 city                 date   fare        ride_id  \\\n",
       "0  Lake Jonathanshire  2018-01-14 10:14:22  13.83  5739410935873   \n",
       "1  South Michelleport  2018-03-04 18:24:09  30.24  2343912425577   \n",
       "2  Port Samanthamouth  2018-02-24 04:29:00  33.44  2005065760003   \n",
       "3          Rodneyfort  2018-02-10 23:22:03  23.44  5149245426178   \n",
       "4          South Jack  2018-03-06 04:28:35  34.58  3908451377344   \n",
       "\n",
       "   Total Drivers Per City   type  \n",
       "0                       5  Urban  \n",
       "1                      72  Urban  \n",
       "2                      57  Urban  \n",
       "3                      34  Urban  \n",
       "4                      46  Urban  "
      ]
     },
     "execution_count": 36,
     "metadata": {},
     "output_type": "execute_result"
    }
   ],
   "source": [
    "# Merge ride data with city data\n",
    "all_data2_df = pd.merge(ride_data_df, city_data_new_df, on='city', how='left')\n",
    "all_data2_df.head()"
   ]
  },
  {
   "cell_type": "code",
   "execution_count": 37,
   "metadata": {},
   "outputs": [
    {
     "data": {
      "text/html": [
       "<div>\n",
       "<style scoped>\n",
       "    .dataframe tbody tr th:only-of-type {\n",
       "        vertical-align: middle;\n",
       "    }\n",
       "\n",
       "    .dataframe tbody tr th {\n",
       "        vertical-align: top;\n",
       "    }\n",
       "\n",
       "    .dataframe thead th {\n",
       "        text-align: right;\n",
       "    }\n",
       "</style>\n",
       "<table border=\"1\" class=\"dataframe\">\n",
       "  <thead>\n",
       "    <tr style=\"text-align: right;\">\n",
       "      <th></th>\n",
       "      <th>type</th>\n",
       "      <th>Fares by Type</th>\n",
       "      <th>Percent Fare by Type (%)</th>\n",
       "    </tr>\n",
       "  </thead>\n",
       "  <tbody>\n",
       "    <tr>\n",
       "      <th>0</th>\n",
       "      <td>Rural</td>\n",
       "      <td>4327.93</td>\n",
       "      <td>6.81</td>\n",
       "    </tr>\n",
       "    <tr>\n",
       "      <th>1</th>\n",
       "      <td>Suburban</td>\n",
       "      <td>18963.28</td>\n",
       "      <td>29.85</td>\n",
       "    </tr>\n",
       "    <tr>\n",
       "      <th>2</th>\n",
       "      <td>Urban</td>\n",
       "      <td>39854.38</td>\n",
       "      <td>62.72</td>\n",
       "    </tr>\n",
       "  </tbody>\n",
       "</table>\n",
       "</div>"
      ],
      "text/plain": [
       "       type  Fares by Type  Percent Fare by Type (%)\n",
       "0     Rural        4327.93                      6.81\n",
       "1  Suburban       18963.28                     29.85\n",
       "2     Urban       39854.38                     62.72"
      ]
     },
     "execution_count": 37,
     "metadata": {},
     "output_type": "execute_result"
    }
   ],
   "source": [
    "# In addition, you will be expected to produce the following three pie charts:\n",
    "\n",
    "## % of Total Fares by City Type\n",
    "\n",
    "# sum of fares by city type and total fare\n",
    "sum_fare_type = all_data2_df.groupby('type')[\"fare\"].sum()\n",
    "total_fare = all_data2_df[\"fare\"].sum()\n",
    "#print(sum_fare_type)\n",
    "#print(total_fare)\n",
    "\n",
    "# % of Total Fares by City Type\n",
    "percent_fares = sum_fare_type / total_fare * 100\n",
    "#print(percent_fares)\n",
    "\n",
    "fares_citytype_df = pd.DataFrame({\"Fares by Type\": sum_fare_type, \"Percent Fare by Type (%)\": percent_fares})\n",
    "fares_citytype_df[\"Percent Fare by Type (%)\"] = fares_citytype_df[\"Percent Fare by Type (%)\"].map('{:.2f}'.format)\n",
    "\n",
    "# converting the % fare to float\n",
    "fares_citytype_df[\"Percent Fare by Type (%)\"] = pd.to_numeric(fares_citytype_df[\"Percent Fare by Type (%)\"], errors='ignore')\n",
    "\n",
    "fares_citytype_df = fares_citytype_df.reset_index()\n",
    "fares_citytype_df"
   ]
  },
  {
   "cell_type": "code",
   "execution_count": 38,
   "metadata": {},
   "outputs": [
    {
     "data": {
      "image/png": "[encoded data removed]",
      "text/plain": [
       "<Figure size 432x288 with 1 Axes>"
      ]
     },
     "metadata": {},
     "output_type": "display_data"
    }
   ],
   "source": [
    "# Create PieChart for % of Total Fares by City Type\n",
    "explode=[0, 0, 0.1]\n",
    "ax = fares_citytype_df.plot(kind='pie', y = 'Percent Fare by Type (%)', autopct='%1.2f%%', startangle=165, shadow=True,\\\n",
    "                       labels=fares_citytype_df['type'], colors=[\"gold\", \"lightskyblue\", 'lightcoral'],\\\n",
    "                       legend = False, fontsize=14, explode=explode)\n",
    "#remove the yaxis label\n",
    "ax.set_ylabel('')\n",
    "plt.title(\"Percent Fares by City Type (%)\")\n",
    "plt.show()"
   ]
  },
  {
   "cell_type": "code",
   "execution_count": 39,
   "metadata": {},
   "outputs": [
    {
     "data": {
      "text/html": [
       "<div>\n",
       "<style scoped>\n",
       "    .dataframe tbody tr th:only-of-type {\n",
       "        vertical-align: middle;\n",
       "    }\n",
       "\n",
       "    .dataframe tbody tr th {\n",
       "        vertical-align: top;\n",
       "    }\n",
       "\n",
       "    .dataframe thead th {\n",
       "        text-align: right;\n",
       "    }\n",
       "</style>\n",
       "<table border=\"1\" class=\"dataframe\">\n",
       "  <thead>\n",
       "    <tr style=\"text-align: right;\">\n",
       "      <th></th>\n",
       "      <th>type</th>\n",
       "      <th>Rides by Type</th>\n",
       "      <th>Percent Rides by Type (%)</th>\n",
       "    </tr>\n",
       "  </thead>\n",
       "  <tbody>\n",
       "    <tr>\n",
       "      <th>0</th>\n",
       "      <td>Rural</td>\n",
       "      <td>125</td>\n",
       "      <td>5.26</td>\n",
       "    </tr>\n",
       "    <tr>\n",
       "      <th>1</th>\n",
       "      <td>Suburban</td>\n",
       "      <td>611</td>\n",
       "      <td>25.73</td>\n",
       "    </tr>\n",
       "    <tr>\n",
       "      <th>2</th>\n",
       "      <td>Urban</td>\n",
       "      <td>1625</td>\n",
       "      <td>68.42</td>\n",
       "    </tr>\n",
       "  </tbody>\n",
       "</table>\n",
       "</div>"
      ],
      "text/plain": [
       "       type  Rides by Type  Percent Rides by Type (%)\n",
       "0     Rural            125                       5.26\n",
       "1  Suburban            611                      25.73\n",
       "2     Urban           1625                      68.42"
      ]
     },
     "execution_count": 39,
     "metadata": {},
     "output_type": "execute_result"
    }
   ],
   "source": [
    "## % of Total Rides by City Type\n",
    "\n",
    "# count of rides by city type and total rides\n",
    "count_rides_type = all_data2_df.groupby('type')[\"ride_id\"].count()\n",
    "total_rides = len(all_data2_df[\"ride_id\"])\n",
    "#print(count_rides_type)\n",
    "#print(total_rides)\n",
    "\n",
    "# % of Total Rides by City Type\n",
    "percent_rides = count_rides_type / total_rides * 100\n",
    "#print(percent_rides)\n",
    "\n",
    "rides_citytype_df = pd.DataFrame({\"Rides by Type\": count_rides_type, \"Percent Rides by Type (%)\": percent_rides}, \\\n",
    "                                columns = [\"Rides by Type\", \"Percent Rides by Type (%)\"])\n",
    "rides_citytype_df[\"Percent Rides by Type (%)\"] = rides_citytype_df[\"Percent Rides by Type (%)\"].map('{:.2f}'.format)\n",
    "\n",
    "# converting the % ride to float\n",
    "rides_citytype_df[\"Percent Rides by Type (%)\"] = pd.to_numeric(rides_citytype_df[\"Percent Rides by Type (%)\"], errors='ignore')\n",
    "\n",
    "rides_citytype_df = rides_citytype_df.reset_index()\n",
    "rides_citytype_df\n",
    "\n"
   ]
  },
  {
   "cell_type": "code",
   "execution_count": 40,
   "metadata": {},
   "outputs": [
    {
     "data": {
      "image/png": "[encoded data removed]",
      "text/plain": [
       "<Figure size 432x288 with 1 Axes>"
      ]
     },
     "metadata": {},
     "output_type": "display_data"
    }
   ],
   "source": [
    "# Create PieChart for % of Total Rides by City Type\n",
    "explode=[0, 0, 0.1]\n",
    "ax = rides_citytype_df.plot(kind='pie', y = 'Percent Rides by Type (%)', autopct='%1.2f%%', startangle=165, shadow=True,\\\n",
    "                       labels=rides_citytype_df['type'], colors=[\"gold\", \"lightskyblue\", 'lightcoral'], legend = False,\\\n",
    "                       fontsize=14, explode=explode)\n",
    "ax.set_ylabel('')\n",
    "plt.title(\"Percent Rides by City Type (%)\")\n",
    "plt.show()"
   ]
  },
  {
   "cell_type": "code",
   "execution_count": 41,
   "metadata": {},
   "outputs": [
    {
     "name": "stdout",
     "output_type": "stream",
     "text": [
      "2973\n"
     ]
    },
    {
     "data": {
      "text/html": [
       "<div>\n",
       "<style scoped>\n",
       "    .dataframe tbody tr th:only-of-type {\n",
       "        vertical-align: middle;\n",
       "    }\n",
       "\n",
       "    .dataframe tbody tr th {\n",
       "        vertical-align: top;\n",
       "    }\n",
       "\n",
       "    .dataframe thead th {\n",
       "        text-align: right;\n",
       "    }\n",
       "</style>\n",
       "<table border=\"1\" class=\"dataframe\">\n",
       "  <thead>\n",
       "    <tr style=\"text-align: right;\">\n",
       "      <th></th>\n",
       "      <th>type</th>\n",
       "      <th>Drivers by Type</th>\n",
       "      <th>Percent Drivers by Type (%)</th>\n",
       "    </tr>\n",
       "  </thead>\n",
       "  <tbody>\n",
       "    <tr>\n",
       "      <th>0</th>\n",
       "      <td>Rural</td>\n",
       "      <td>78</td>\n",
       "      <td>2.62</td>\n",
       "    </tr>\n",
       "    <tr>\n",
       "      <th>1</th>\n",
       "      <td>Suburban</td>\n",
       "      <td>468</td>\n",
       "      <td>15.74</td>\n",
       "    </tr>\n",
       "    <tr>\n",
       "      <th>2</th>\n",
       "      <td>Urban</td>\n",
       "      <td>2405</td>\n",
       "      <td>80.89</td>\n",
       "    </tr>\n",
       "  </tbody>\n",
       "</table>\n",
       "</div>"
      ],
      "text/plain": [
       "       type  Drivers by Type  Percent Drivers by Type (%)\n",
       "0     Rural               78                         2.62\n",
       "1  Suburban              468                        15.74\n",
       "2     Urban             2405                        80.89"
      ]
     },
     "execution_count": 41,
     "metadata": {},
     "output_type": "execute_result"
    }
   ],
   "source": [
    "## % of Total Drivers by City Type\n",
    "\n",
    "# sum of drivers by city type and total drivers\n",
    "sum_drivers_type = city_data_new_df.groupby('type')[\"Total Drivers Per City\"].sum()\n",
    "total_drivers = city_data_new_df[\"Total Drivers Per City\"].sum()\n",
    "#print(sum_drivers_type)\n",
    "print(total_drivers)\n",
    "\n",
    "# % of Total Drivers by City Type\n",
    "percent_drivers = sum_drivers_type / total_drivers * 100\n",
    "#print(percent_drivers)\n",
    "\n",
    "drivers_citytype_df = pd.DataFrame({\"Drivers by Type\": sum_drivers_type, \"Percent Drivers by Type (%)\": percent_drivers}, \\\n",
    "                                columns = [\"Drivers by Type\", \"Percent Drivers by Type (%)\"])\n",
    "drivers_citytype_df[\"Percent Drivers by Type (%)\"] = drivers_citytype_df[\"Percent Drivers by Type (%)\"].map('{:.2f}'.format)\n",
    "\n",
    "# converting the % ride to float\n",
    "drivers_citytype_df[\"Percent Drivers by Type (%)\"] = pd.to_numeric(drivers_citytype_df[\"Percent Drivers by Type (%)\"], \\\n",
    "                                                                   errors='ignore')\n",
    "\n",
    "drivers_citytype_df = drivers_citytype_df.reset_index()\n",
    "drivers_citytype_df"
   ]
  },
  {
   "cell_type": "code",
   "execution_count": 42,
   "metadata": {
    "scrolled": true
   },
   "outputs": [
    {
     "data": {
      "image/png": "[encoded data removed]",
      "text/plain": [
       "<Figure size 432x288 with 1 Axes>"
      ]
     },
     "metadata": {},
     "output_type": "display_data"
    }
   ],
   "source": [
    "# Create PieChart for % of Total Drivers by City Type\n",
    "\n",
    "explode=[0, 0, 0.1]\n",
    "ax = drivers_citytype_df.plot(kind='pie', y = 'Percent Drivers by Type (%)', autopct='%1.2f%%', startangle=165, shadow=True,\\\n",
    "                       labels=drivers_citytype_df['type'], colors=[\"gold\", \"lightskyblue\", 'lightcoral'], \\\n",
    "                         legend = False, fontsize=14, explode=explode)\n",
    "\n",
    "ax.set_ylabel('')\n",
    "plt.title(\"Percent Drivers by City Type (%)\")\n",
    "plt.show()"
   ]
  }
 ],
 "metadata": {
  "kernelspec": {
   "display_name": "Python 3",
   "language": "python",
   "name": "python3"
  },
  "language_info": {
   "codemirror_mode": {
    "name": "ipython",
    "version": 3
   },
   "file_extension": ".py",
   "mimetype": "text/x-python",
   "name": "python",
   "nbconvert_exporter": "python",
   "pygments_lexer": "ipython3",
   "version": "3.6.7"
  }
 },
 "nbformat": 4,
 "nbformat_minor": 2
}
